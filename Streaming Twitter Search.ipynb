{
 "cells": [
  {
   "cell_type": "code",
   "execution_count": null,
   "metadata": {
    "scrolled": true
   },
   "outputs": [],
   "source": [
    "#CREATED by Woka ADitama\n",
    "\n",
    "\n",
    "import tweepy\n",
    "from tweepy import OAuthHandler\n",
    "import csv\n",
    "import pandas as pd\n",
    "import json\n",
    "import time\n",
    "import datetime as dt\n",
    "\n",
    "consumer_key = 'YOUR-CONSUMER-KEY'\n",
    "consumer_secret = 'YOUR-CONSUMER-SECRET'\n",
    "access_token = 'YOUR-ACCESS-TOKEN'\n",
    "access_secret = 'YOUR-ACCESS-SECRET'\n",
    " \n",
    "auth = OAuthHandler(consumer_key, consumer_secret)\n",
    "auth.set_access_token(access_token, access_secret)\n",
    " \n",
    "api = tweepy.API(auth)\n",
    "\n",
    "from tweepy import Stream\n",
    "from tweepy.streaming import StreamListener\n",
    " \n",
    "class MyListener(StreamListener):\n",
    "    def __init__(self, time_limit=180*60):\n",
    "        self.start_time = time.time()\n",
    "        self.limit = time_limit\n",
    "        print('Running for 3 hours')\n",
    "        print('(until:', dt.datetime.now()+dt.timedelta(minutes=180), ')')\n",
    "\n",
    " \n",
    " \n",
    "    def on_data(self, data):\n",
    "        v=time.time()-self.start_time\n",
    "        if v < self.limit:\n",
    "            with open('file.json', 'a') as f:\n",
    "                f.write(data)\n",
    "#                     print(data)\n",
    "                return True\n",
    "        else:\n",
    "            return False\n",
    "\n",
    "\n",
    "    def on_error(self, status):\n",
    "        print(status)\n",
    "        return True\n",
    " \n",
    "twitter_stream = Stream(auth, MyListener())\n",
    "twitter_stream.filter(track=['Keyword'])\n",
    "\n",
    "#         except BaseException as e:\n",
    "#             print(\"Error on_data: %s\" % str(e))\n",
    "#         return True"
   ]
  },
  {
   "cell_type": "code",
   "execution_count": null,
   "metadata": {},
   "outputs": [],
   "source": [
    "import json\n",
    " \n",
    "with open('file.json', 'r') as f:\n",
    "    line = f.readlines() # read only the first tweet/line\n",
    "    for i in line:\n",
    "        tweet = json.loads(i) # load it as Python dict\n",
    "        print(json.dumps(tweet, indent=4)) # pretty-print"
   ]
  },
  {
   "cell_type": "code",
   "execution_count": null,
   "metadata": {},
   "outputs": [],
   "source": [
    "# api = tweepy.API(auth)\n",
    "\n",
    "# # The search term you want to find\n",
    "# query = \"Toptal\"\n",
    "# # Language code (follows ISO 639-1 standards)\n",
    "# language = \"id\"\n",
    "\n",
    "# # Calling the user_timeline function with our parameters\n",
    "# results = api.search(q='#PrabowoTidakBolehJumatan', lang=language)\n",
    "\n",
    "# for tweet in results:\n",
    "#     print (tweet.user.screen_name,\"Tweeted:\",tweet.text)"
   ]
  },
  {
   "cell_type": "code",
   "execution_count": null,
   "metadata": {},
   "outputs": [],
   "source": []
  },
  {
   "cell_type": "code",
   "execution_count": null,
   "metadata": {},
   "outputs": [],
   "source": []
  }
 ],
 "metadata": {
  "kernelspec": {
   "display_name": "Python 3",
   "language": "python",
   "name": "python3"
  },
  "language_info": {
   "codemirror_mode": {
    "name": "ipython",
    "version": 3
   },
   "file_extension": ".py",
   "mimetype": "text/x-python",
   "name": "python",
   "nbconvert_exporter": "python",
   "pygments_lexer": "ipython3",
   "version": "3.7.1"
  }
 },
 "nbformat": 4,
 "nbformat_minor": 2
}
