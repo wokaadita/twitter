{
 "cells": [
  {
   "cell_type": "markdown",
   "metadata": {},
   "source": [
    "# Import Library dan API Token\n",
    "Meng-import semua library yang dibutuhkan.\n",
    "\n",
    "Pada script ini, yang API connector diguanakan adalah Twython.\n",
    "\n",
    "Seluruh key dapat diperoleh di https://apps.twitter.com/"
   ]
  },
  {
   "cell_type": "code",
   "execution_count": 8,
   "metadata": {},
   "outputs": [],
   "source": [
    "from twython import Twython\n",
    "import json"
   ]
  },
  {
   "cell_type": "code",
   "execution_count": 9,
   "metadata": {},
   "outputs": [],
   "source": [
    "TWITTER_APP_KEY = 'your app key'\n",
    "TWITTER_APP_KEY_SECRET = 'your app key secret' \n",
    "TWITTER_ACCESS_TOKEN = 'your twitter access token'\n",
    "TWITTER_ACCESS_TOKEN_SECRET = 'your twitter access token secret'\n",
    "\n",
    "t = Twython(app_key=TWITTER_APP_KEY, \n",
    "            app_secret=TWITTER_APP_KEY_SECRET, \n",
    "            oauth_token=TWITTER_ACCESS_TOKEN, \n",
    "            oauth_token_secret=TWITTER_ACCESS_TOKEN_SECRET)"
   ]
  },
  {
   "cell_type": "markdown",
   "metadata": {},
   "source": [
    "# Melakukan searching dengan Twitter API"
   ]
  },
  {
   "cell_type": "code",
   "execution_count": 10,
   "metadata": {},
   "outputs": [],
   "source": [
    "term = 'Indonesia'\n",
    "tweet_metadatas = t.search(q=term,count=100,result_type='recent')"
   ]
  },
  {
   "cell_type": "markdown",
   "metadata": {},
   "source": [
    "### Mengambil salah satu tweet sebagai JSON"
   ]
  },
  {
   "cell_type": "code",
   "execution_count": 11,
   "metadata": {},
   "outputs": [
    {
     "name": "stdout",
     "output_type": "stream",
     "text": [
      "{'created_at': 'Sun Oct 21 14:56:22 +0000 2018', 'id': 1054023593670000640, 'id_str': '1054023593670000640', 'text': '#Badminton\\n#BadmintonLovers \\nPodium #MD #DenmarkOpen2018 ,Congrats The Minions👏👋 Kalian juara, bawa nama Indonesia,… https://t.co/WDuWJJ1l0D', 'truncated': True, 'entities': {'hashtags': [{'text': 'Badminton', 'indices': [0, 10]}, {'text': 'BadmintonLovers', 'indices': [11, 27]}, {'text': 'MD', 'indices': [36, 39]}, {'text': 'DenmarkOpen2018', 'indices': [40, 56]}], 'symbols': [], 'user_mentions': [], 'urls': [{'url': 'https://t.co/WDuWJJ1l0D', 'expanded_url': 'https://twitter.com/i/web/status/1054023593670000640', 'display_url': 'twitter.com/i/web/status/1…', 'indices': [117, 140]}]}, 'metadata': {'iso_language_code': 'in', 'result_type': 'recent'}, 'source': '<a href=\"http://twitter.com/download/android\" rel=\"nofollow\">Twitter for Android</a>', 'in_reply_to_status_id': None, 'in_reply_to_status_id_str': None, 'in_reply_to_user_id': None, 'in_reply_to_user_id_str': None, 'in_reply_to_screen_name': None, 'user': {'id': 1192050210, 'id_str': '1192050210', 'name': 'Zupiro Gooners :)', 'screen_name': 'boejangzupiro', 'location': '', 'description': '@Arsenal Fans,Badminton Players😍\\r\\n\\r\\n..........Mention me for Follback ☺..........', 'url': 'https://t.co/HfIdU0B8WQ', 'entities': {'url': {'urls': [{'url': 'https://t.co/HfIdU0B8WQ', 'expanded_url': 'http://www.facebook.com/boejangzupiro@yahoo.com', 'display_url': 'facebook.com/boejangzupiro@…', 'indices': [0, 23]}]}, 'description': {'urls': []}}, 'protected': False, 'followers_count': 824, 'friends_count': 322, 'listed_count': 0, 'created_at': 'Mon Feb 18 04:49:27 +0000 2013', 'favourites_count': 58, 'utc_offset': None, 'time_zone': None, 'geo_enabled': True, 'verified': False, 'statuses_count': 3724, 'lang': 'id', 'contributors_enabled': False, 'is_translator': False, 'is_translation_enabled': False, 'profile_background_color': 'C0DEED', 'profile_background_image_url': 'http://abs.twimg.com/images/themes/theme1/bg.png', 'profile_background_image_url_https': 'https://abs.twimg.com/images/themes/theme1/bg.png', 'profile_background_tile': True, 'profile_image_url': 'http://pbs.twimg.com/profile_images/790903848009240577/pJA5e8Jn_normal.jpg', 'profile_image_url_https': 'https://pbs.twimg.com/profile_images/790903848009240577/pJA5e8Jn_normal.jpg', 'profile_banner_url': 'https://pbs.twimg.com/profile_banners/1192050210/1477682320', 'profile_link_color': '0084B4', 'profile_sidebar_border_color': 'FFFFFF', 'profile_sidebar_fill_color': 'DDEEF6', 'profile_text_color': '333333', 'profile_use_background_image': True, 'has_extended_profile': True, 'default_profile': False, 'default_profile_image': False, 'following': False, 'follow_request_sent': False, 'notifications': False, 'translator_type': 'none'}, 'geo': None, 'coordinates': None, 'place': {'id': '1a47cc1c172d543f', 'url': 'https://api.twitter.com/1.1/geo/id/1a47cc1c172d543f.json', 'place_type': 'city', 'name': 'Rantau Pandan', 'full_name': 'Rantau Pandan, Indonesia', 'country_code': 'ID', 'country': 'Indonesia', 'contained_within': [], 'bounding_box': {'type': 'Polygon', 'coordinates': [[[101.700264, -1.800258], [102.072205, -1.800258], [102.072205, -1.429229], [101.700264, -1.429229]]]}, 'attributes': {}}, 'contributors': None, 'is_quote_status': False, 'retweet_count': 0, 'favorite_count': 0, 'favorited': False, 'retweeted': False, 'possibly_sensitive': True, 'lang': 'in'}\n"
     ]
    }
   ],
   "source": [
    "print(tweet_metadatas['statuses'][0])"
   ]
  },
  {
   "cell_type": "markdown",
   "metadata": {},
   "source": [
    "### Mengambil isi tweet"
   ]
  },
  {
   "cell_type": "code",
   "execution_count": 12,
   "metadata": {},
   "outputs": [
    {
     "name": "stdout",
     "output_type": "stream",
     "text": [
      "#Badminton\n",
      "#BadmintonLovers \n",
      "Podium #MD #DenmarkOpen2018 ,Congrats The Minions👏👋 Kalian juara, bawa nama Indonesia,… https://t.co/WDuWJJ1l0D\n"
     ]
    }
   ],
   "source": [
    "print(tweet_metadatas['statuses'][0]['text'])"
   ]
  },
  {
   "cell_type": "markdown",
   "metadata": {},
   "source": [
    "### Mengambil username dari yang ngetweet"
   ]
  },
  {
   "cell_type": "code",
   "execution_count": 13,
   "metadata": {},
   "outputs": [
    {
     "name": "stdout",
     "output_type": "stream",
     "text": [
      "boejangzupiro\n"
     ]
    }
   ],
   "source": [
    "print(tweet_metadatas['statuses'][0]['user']['screen_name'])"
   ]
  },
  {
   "cell_type": "markdown",
   "metadata": {},
   "source": [
    "### Mendapatkan jumlah following dan follower"
   ]
  },
  {
   "cell_type": "code",
   "execution_count": 14,
   "metadata": {},
   "outputs": [
    {
     "name": "stdout",
     "output_type": "stream",
     "text": [
      "322 824\n"
     ]
    }
   ],
   "source": [
    "print(tweet_metadatas['statuses'][0]['user']['friends_count'],tweet_metadatas['statuses'][0]['user']['followers_count'],)"
   ]
  },
  {
   "cell_type": "markdown",
   "metadata": {},
   "source": [
    "# Menyimpan data pada Tabel\n",
    "Data yang akan disimpan adalah tweet dan siapa yg melakukan tweet"
   ]
  },
  {
   "cell_type": "markdown",
   "metadata": {},
   "source": [
    "### Memasukkan data yang digunakan ke dalam list of dictionary"
   ]
  },
  {
   "cell_type": "code",
   "execution_count": 15,
   "metadata": {},
   "outputs": [],
   "source": [
    "data_list = []\n",
    "\n",
    "for tweet in tweet_metadatas['statuses']:\n",
    "    meta = dict()\n",
    "    meta['tweet'] = tweet['text']\n",
    "    meta['timestamp'] = tweet['created_at']\n",
    "    meta['username'] = tweet['user']['screen_name']\n",
    "    \n",
    "    data_list.append(meta)"
   ]
  },
  {
   "cell_type": "markdown",
   "metadata": {},
   "source": [
    "### Membuat tabel untuk menyimpan data"
   ]
  },
  {
   "cell_type": "code",
   "execution_count": 17,
   "metadata": {},
   "outputs": [
    {
     "data": {
      "text/html": [
       "<div>\n",
       "<style scoped>\n",
       "    .dataframe tbody tr th:only-of-type {\n",
       "        vertical-align: middle;\n",
       "    }\n",
       "\n",
       "    .dataframe tbody tr th {\n",
       "        vertical-align: top;\n",
       "    }\n",
       "\n",
       "    .dataframe thead th {\n",
       "        text-align: right;\n",
       "    }\n",
       "</style>\n",
       "<table border=\"1\" class=\"dataframe\">\n",
       "  <thead>\n",
       "    <tr style=\"text-align: right;\">\n",
       "      <th></th>\n",
       "      <th>timestamp</th>\n",
       "      <th>tweet</th>\n",
       "      <th>username</th>\n",
       "    </tr>\n",
       "  </thead>\n",
       "  <tbody>\n",
       "    <tr>\n",
       "      <th>0</th>\n",
       "      <td>Sun Oct 21 14:56:22 +0000 2018</td>\n",
       "      <td>#Badminton\\n#BadmintonLovers \\nPodium #MD #Den...</td>\n",
       "      <td>boejangzupiro</td>\n",
       "    </tr>\n",
       "    <tr>\n",
       "      <th>1</th>\n",
       "      <td>Sun Oct 21 14:56:22 +0000 2018</td>\n",
       "      <td>RT @durspasi: Gol keempat Indonesia keren, Riv...</td>\n",
       "      <td>Rislynasywaa</td>\n",
       "    </tr>\n",
       "    <tr>\n",
       "      <th>2</th>\n",
       "      <td>Sun Oct 21 14:56:22 +0000 2018</td>\n",
       "      <td>RT @Bolanet: #LiveBolanet FT: Qatar U19 6-5 In...</td>\n",
       "      <td>GemaWahyuPutra1</td>\n",
       "    </tr>\n",
       "    <tr>\n",
       "      <th>3</th>\n",
       "      <td>Sun Oct 21 14:56:21 +0000 2018</td>\n",
       "      <td>RT @TravelVida: Mentawai, Indonesia 🇮🇩 https:/...</td>\n",
       "      <td>lblpzpnds</td>\n",
       "    </tr>\n",
       "    <tr>\n",
       "      <th>4</th>\n",
       "      <td>Sun Oct 21 14:56:21 +0000 2018</td>\n",
       "      <td>RT @mardiasih: Kandidat Doktor  Vs   Lived rea...</td>\n",
       "      <td>shitdayrush</td>\n",
       "    </tr>\n",
       "  </tbody>\n",
       "</table>\n",
       "</div>"
      ],
      "text/plain": [
       "                        timestamp  \\\n",
       "0  Sun Oct 21 14:56:22 +0000 2018   \n",
       "1  Sun Oct 21 14:56:22 +0000 2018   \n",
       "2  Sun Oct 21 14:56:22 +0000 2018   \n",
       "3  Sun Oct 21 14:56:21 +0000 2018   \n",
       "4  Sun Oct 21 14:56:21 +0000 2018   \n",
       "\n",
       "                                               tweet         username  \n",
       "0  #Badminton\\n#BadmintonLovers \\nPodium #MD #Den...    boejangzupiro  \n",
       "1  RT @durspasi: Gol keempat Indonesia keren, Riv...     Rislynasywaa  \n",
       "2  RT @Bolanet: #LiveBolanet FT: Qatar U19 6-5 In...  GemaWahyuPutra1  \n",
       "3  RT @TravelVida: Mentawai, Indonesia 🇮🇩 https:/...        lblpzpnds  \n",
       "4  RT @mardiasih: Kandidat Doktor  Vs   Lived rea...      shitdayrush  "
      ]
     },
     "execution_count": 17,
     "metadata": {},
     "output_type": "execute_result"
    }
   ],
   "source": [
    "import pandas as pd\n",
    "data = pd.DataFrame(data_list)\n",
    "data.head()"
   ]
  },
  {
   "cell_type": "markdown",
   "metadata": {},
   "source": [
    "### Menyimpan ke dalam XLSX"
   ]
  },
  {
   "cell_type": "code",
   "execution_count": 23,
   "metadata": {},
   "outputs": [],
   "source": [
    "writer = pd.ExcelWriter('result.xlsx')\n",
    "data.to_excel(writer,'Sheet1',index=False)\n",
    "writer.save()"
   ]
  },
  {
   "cell_type": "markdown",
   "metadata": {},
   "source": [
    "### Menyimpan ke CSV"
   ]
  },
  {
   "cell_type": "code",
   "execution_count": 24,
   "metadata": {},
   "outputs": [],
   "source": [
    "data.to_csv('result.csv',index=False)"
   ]
  },
  {
   "cell_type": "code",
   "execution_count": null,
   "metadata": {},
   "outputs": [],
   "source": []
  }
 ],
 "metadata": {
  "kernelspec": {
   "display_name": "Python 3",
   "language": "python",
   "name": "python3"
  },
  "language_info": {
   "codemirror_mode": {
    "name": "ipython",
    "version": 3
   },
   "file_extension": ".py",
   "mimetype": "text/x-python",
   "name": "python",
   "nbconvert_exporter": "python",
   "pygments_lexer": "ipython3",
   "version": "3.6.5"
  }
 },
 "nbformat": 4,
 "nbformat_minor": 2
}
